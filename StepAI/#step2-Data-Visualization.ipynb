{
 "cells": [
  {
   "cell_type": "markdown",
   "metadata": {},
   "source": [
    "<img src='Title.png'>\n",
    "\n",
    "\n",
    "<p style=\"text-align: right;\"><font face=\"Microsoft JhengHei\"> 精算二部 決策支援系統科 黃喬敬 #2606</font> </p><br>\n",
    "\n",
    "\n",
    "\n",
    "\n",
    "\n",
    "\n",
    "\n",
    "<p style=\"text-align: center;\"> <font size=7% face=\"Microsoft JhengHei\">  Data Visualization 資料觀察  </font>  </p>\n",
    "\n",
    "\n"
   ]
  },
  {
   "cell_type": "markdown",
   "metadata": {
    "ExecuteTime": {
     "end_time": "2019-04-10T05:09:04.895989Z",
     "start_time": "2019-04-10T05:09:04.890032Z"
    }
   },
   "source": [
    "\n",
    "\n",
    "<font size=4% face=\"Arial Black\" color=\"GOLD\">Shortcut :  </font>&nbsp;\n",
    "<font size=5% face=\"Microsoft JhengHei\">[系統載入](#SYSTEM) </font>&nbsp;\n",
    "<font size=5% face=\"Microsoft JhengHei\">[特徵觀察](#FEATURES) </font>&nbsp;\n",
    "<font size=5% face=\"Microsoft JhengHei\">[特徵關係](#RELATION) </font>&nbsp;\n",
    "<font size=5% face=\"Microsoft JhengHei\">[缺失觀察](#MISSING) </font>&nbsp;\n",
    "<font size=5% face=\"Microsoft JhengHei\">[特徵報告](#REPORT) </font>&nbsp;\n",
    "\n",
    "<a id=\"SYSTEM\"></a>"
   ]
  },
  {
   "cell_type": "markdown",
   "metadata": {},
   "source": [
    "# 系統載入\n",
    "\n",
    "接下來會使用各種方式進行資料觀察。"
   ]
  },
  {
   "cell_type": "code",
   "execution_count": 1,
   "metadata": {
    "ExecuteTime": {
     "end_time": "2019-04-23T08:40:34.679272Z",
     "start_time": "2019-04-23T08:40:32.274194Z"
    }
   },
   "outputs": [
    {
     "name": "stdout",
     "output_type": "stream",
     "text": [
      "python 3.6.0 | packaged by conda-forge | (default, Feb  9 2017, 14:54:13) [MSC v.1900 64 bit (AMD64)]\n",
      "numpy 1.14.2\n",
      "pandas 0.24.2\n",
      "tables 3.4.4\n",
      "seaborn 0.9.0\n",
      "matplotlib 2.2.2\n",
      "missingno 0.4.1\n",
      "pandas_profiling 1.4.1\n",
      "lightgbm 2.2.3\n"
     ]
    }
   ],
   "source": [
    "from IPython.core.display import display, HTML\n",
    "import warnings\n",
    "#warnings.simplefilter(action='ignore', category=UserWarning)\n",
    "import numpy             as np\n",
    "import pandas            as pd\n",
    "import tables\n",
    "import matplotlib\n",
    "import pandas_profiling\n",
    "#matplotlib.use('Agg')\n",
    "%matplotlib inline  \n",
    "import matplotlib.pyplot as plt\n",
    "import seaborn as sns\n",
    "import sys,os, csv, timeit\n",
    "import missingno as msno\n",
    "import lightgbm as lgb\n",
    "\n",
    "pd.set_option('display.max_columns', 500)\n",
    "plt.rcParams['figure.dpi'] = 300\n",
    "plt.rcParams['figure.figsize'] = (15,15)\n",
    "plt.rcParams['axes.unicode_minus'] = False\n",
    "plt.rcParams['font.sans-serif'] = ['Microsoft JhengHei'] \n",
    "plt.rcParams['font.family']='sans-serif' \n",
    "#sns.set(font_scale = 1,font ='Microsoft JhengHei')\n",
    "#sns.set_style(\"bright\",{\"font.sans-serif\":['JhengHei', 'Arial']})\n",
    "\n",
    "from matplotlib.font_manager import FontProperties\n",
    "myfont=FontProperties(fname=r'Microsoft JhengHei.ttf')\n",
    "sns.set(font=myfont.get_name())\n",
    "\n",
    "sns_palette = 'bright'#bright, Set2, Set1, Set3, Paired , pastel, hls, husl, muted,colorblind\n",
    "sns.set_palette(sns_palette)\n",
    "plt.style.use('seaborn')\n",
    "print('python',sys.version)\n",
    "print('numpy',np.__version__)\n",
    "print('pandas',pd.__version__)\n",
    "print('tables',tables.__version__)\n",
    "print('seaborn',sns.__version__)\n",
    "print('matplotlib',matplotlib.__version__)\n",
    "print('missingno',msno.__version__)\n",
    "print('pandas_profiling','1.4.1')\n",
    "print('lightgbm',lgb.__version__)"
   ]
  },
  {
   "cell_type": "markdown",
   "metadata": {},
   "source": [
    "## 存儲讀取HDF設置\n",
    "\n",
    "<font size=2% color=GREEN>【不需修改】</font> 建立儲存HDF與讀取HDF的方程式"
   ]
  },
  {
   "cell_type": "code",
   "execution_count": null,
   "metadata": {
    "ExecuteTime": {
     "end_time": "2019-04-23T08:34:49.530574Z",
     "start_time": "2019-04-23T08:34:49.523594Z"
    }
   },
   "outputs": [],
   "source": [
    "def dfs_to_hdf(TrainDF,TestDF, HDFname, TrainID_ = '',TestID_ =''):\n",
    "    if type(TrainID_) == pd.core.series.Series and  type(TestID_) == pd.core.series.Series:\n",
    "        TrainDF.insert(0, \"_ID__\", TrainID_) \n",
    "        TestDF.insert(0, \"_ID__\", TestID_) \n",
    "    TrainDF['_targetY__'] = TargetColumn\n",
    "    TrainDF.to_hdf(r'_temp/'+HDFname+'.hdf','Train',mode='w')\n",
    "    TestDF.to_hdf(r'_temp/'+HDFname+'.hdf','Test')\n",
    "    TrainDF.drop(['_ID__','_targetY__'],axis=1,inplace=True)\n",
    "    TestDF.drop(['_ID__'],axis=1,inplace=True)\n",
    "    \n",
    "def hdf_to_dfs(HDFname):\n",
    "    train = pd.read_hdf(r'_temp/'+HDFname+'.hdf','Train')\n",
    "    test =  pd.read_hdf(r'_temp/'+HDFname+'.hdf','Test')\n",
    "    return train.drop(['_ID__','_targetY__'],axis=1), test.drop(['_ID__'],axis=1) ,train['_targetY__'].values[0], train['_ID__'], test['_ID__']"
   ]
  },
  {
   "cell_type": "markdown",
   "metadata": {},
   "source": [
    "## 觀察基本資料\n",
    "<font size=2% color=GREEN>【不需修改】</font>  讀取基礎檔案資料，同時使用簡易LGBM模型判讀重要欄位，分為類別型與數值型。\n",
    "\n",
    "<font size=2% color=ORANGE>【需要注意】</font>  資料觀察時應就真實資料與商業分析角度觀察各欄位特徵，在此僅藉由模型挑選示範部份欄位，僅供參考。\n"
   ]
  },
  {
   "cell_type": "code",
   "execution_count": null,
   "metadata": {
    "ExecuteTime": {
     "end_time": "2019-04-23T08:34:51.017011Z",
     "start_time": "2019-04-23T08:34:49.532568Z"
    }
   },
   "outputs": [],
   "source": [
    "if not os.path.exists(r'Fig'):\n",
    "    os.makedirs(r'Fig')\n",
    "\n",
    "TrainData, TestData, targetY, trainid, testid = hdf_to_dfs('data_basic')\n",
    "\n",
    "\n",
    "def Cate_cols(train_):\n",
    "    train = train_.copy()\n",
    "    cat_cols, cat_, num_, all_ = train.drop([targetY], axis=1).select_dtypes(\n",
    "        include=['object']).columns, [], [], []\n",
    "    X_train, y_train = train.drop([targetY], axis=1), train[targetY]\n",
    "\n",
    "    for col in X_train.select_dtypes(include=['object']).columns:\n",
    "        X_train[col], _ = pd.factorize(X_train[col])\n",
    "    if y_train.dtype == 'object':\n",
    "        y_train, _ = pd.factorize(train[col])\n",
    "\n",
    "    lgb_train = lgb.Dataset(X_train, y_train, free_raw_data=False, feature_name=list(\n",
    "        X_train.columns.values), categorical_feature=list(cat_cols))\n",
    "    gbm = lgb.train({'learning_rate': 0.05, }, lgb_train, num_boost_round=100,)\n",
    "    for term in [x for _, x in sorted(zip(gbm.feature_importance(), X_train.columns), reverse=True)]:\n",
    "        cat_.append(term) if term in cat_cols else num_.append(term)\n",
    "        all_.append(term)\n",
    "    return cat_, num_, all_\n",
    "\n",
    "\n",
    "cat_cols, num_cols, all_cols = Cate_cols(TrainData)\n",
    "\n",
    "TrainData['_data'] = 'Train ('+str(TrainData.shape[0]) + ')'\n",
    "TestData['_data'] = 'Test ('+str(TestData.shape[0]) + ')'\n",
    "AllData = pd.concat([TrainData, TestData], axis=0).reset_index(drop=True)\n",
    "TrainData.drop(['_data'], axis=1, inplace=True)\n",
    "TestData.drop(['_data'], axis=1, inplace=True)"
   ]
  },
  {
   "cell_type": "markdown",
   "metadata": {},
   "source": [
    "\n",
    "<font size=4% face=\"Arial Black\" color=\"GOLD\">Shortcut :  </font>&nbsp;\n",
    "<font size=5% face=\"Microsoft JhengHei\">[系統載入](#SYSTEM) </font>&nbsp;\n",
    "<font size=5% face=\"Microsoft JhengHei\">[特徵觀察](#FEATURES) </font>&nbsp;\n",
    "<font size=5% face=\"Microsoft JhengHei\">[特徵關係](#RELATION) </font>&nbsp;\n",
    "<font size=5% face=\"Microsoft JhengHei\">[缺失觀察](#MISSING) </font>&nbsp;\n",
    "<font size=5% face=\"Microsoft JhengHei\">[特徵報告](#REPORT) </font>&nbsp;\n",
    "\n",
    "<a id=\"FEATURES\"></a>"
   ]
  },
  {
   "cell_type": "markdown",
   "metadata": {
    "ExecuteTime": {
     "end_time": "2019-04-12T03:40:07.069013Z",
     "start_time": "2019-04-12T03:40:07.064057Z"
    }
   },
   "source": [
    "# 重要欄位觀察\n",
    "\n",
    "由於欄位較多，故使用演算法挑選較重要欄位進行觀察。真實案例應逐一觀察各欄位情形。\n",
    "\n",
    "\n"
   ]
  },
  {
   "cell_type": "markdown",
   "metadata": {},
   "source": [
    "## 數值型欄位觀察\n",
    "\n",
    "<font size=2% color=ORANGE>【需要注意】</font>  應該在初始資料時即做此觀察。\n",
    "\n",
    "<font size=2% color=ORANGE>【需要注意】</font>  應觀察最大值與最小值，如有過份異常值通常可以在此發現。例如，BMI 最大值超過數千，此為明顯異常。\n",
    "\n",
    "<font size=2% color=YELLOWGREEN>【可以修改】</font>  列出各欄位值的特徵，分別列出train與test，應比較分佈是否有差異"
   ]
  },
  {
   "cell_type": "code",
   "execution_count": null,
   "metadata": {
    "ExecuteTime": {
     "end_time": "2019-04-23T08:34:51.148941Z",
     "start_time": "2019-04-23T08:34:51.017011Z"
    }
   },
   "outputs": [],
   "source": [
    "display(TrainData[num_cols[:10]].describe())\n",
    "display(TestData[num_cols[:10]].describe())"
   ]
  },
  {
   "cell_type": "markdown",
   "metadata": {},
   "source": [
    "## 目標欄位觀察\n",
    "\n",
    "\n",
    "<font size=2% color=YELLOWGREEN>【可以修改】</font>  畫出目標欄位的分佈"
   ]
  },
  {
   "cell_type": "code",
   "execution_count": null,
   "metadata": {
    "ExecuteTime": {
     "end_time": "2019-04-23T08:34:52.713440Z",
     "start_time": "2019-04-23T08:34:51.150492Z"
    }
   },
   "outputs": [],
   "source": [
    "\n",
    "\n",
    "fig  = plt.figure(figsize=(15,15))\n",
    "sns.set(font=myfont.get_name(),palette=sns_palette)\n",
    "\n",
    "if AllData[targetY][TrainData.shape[0]:].isna().sum() == TestData.shape[0]:\n",
    "    pic = sns.catplot(x=targetY, kind=\"count\",  data=TrainData )\n",
    "    pic.fig.suptitle('Distribution_of_Y : '+ targetY)\n",
    "else:\n",
    "    pic = sns.catplot(x=targetY, kind=\"count\",  data=AllData , col='_data')\n",
    "    pic.fig.suptitle('Distribution_of_Y : '+ targetY)\n",
    "    \n",
    "\n",
    "plt.subplots_adjust(top=0.85)\n",
    "plt.show()\n",
    "plt.savefig(r'Fig/01_Distribution_of_Target.png', format='png', dpi=300)"
   ]
  },
  {
   "cell_type": "markdown",
   "metadata": {
    "ExecuteTime": {
     "end_time": "2019-04-16T05:14:07.729090Z",
     "start_time": "2019-04-16T05:14:07.724076Z"
    }
   },
   "source": [
    "## 數值型欄位觀察\n",
    "\n",
    "\n",
    "<font size=2% color=YELLOWGREEN>【可以修改】</font>  畫出各欄對應目標的分佈"
   ]
  },
  {
   "cell_type": "code",
   "execution_count": null,
   "metadata": {
    "ExecuteTime": {
     "end_time": "2019-04-23T08:34:55.087346Z",
     "start_time": "2019-04-23T08:34:52.729068Z"
    }
   },
   "outputs": [],
   "source": [
    "# sns.distplot(TrainData[num_cols[0]])\n",
    "\n",
    "\n",
    "fig = plt.figure(figsize=(12, 12))\n",
    "sns.set(font=myfont.get_name(), palette=sns_palette)\n",
    "for i, col in enumerate(num_cols[:4]):\n",
    "    plt.subplot(2, 2, i+1)\n",
    "    plt.title('Distribution_of '+col)\n",
    "    for l in AllData[targetY].unique():\n",
    "        sns.distplot(AllData[AllData[targetY] == l]\n",
    "                     [col].dropna(), label=targetY + '= ' + str(l))\n",
    "\n",
    "\n",
    "plt.suptitle('Distribution_of_Important_Features')\n",
    "plt.tight_layout(h_pad=2)\n",
    "plt.subplots_adjust(top=0.93)\n",
    "fig.legend([targetY + '= ' + str(l)\n",
    "            for l in AllData[targetY].unique()], loc='upper right')\n",
    "plt.show()\n",
    "plt.savefig(r'Fig/01_Distribution_of_Features.png', format='png', dpi=300)"
   ]
  },
  {
   "cell_type": "markdown",
   "metadata": {},
   "source": [
    "## 類別型欄位觀察\n",
    "\n",
    "\n",
    "<font size=2% color=YELLOWGREEN>【可以修改】</font>  畫出類別型欄位對應目標的分佈"
   ]
  },
  {
   "cell_type": "code",
   "execution_count": null,
   "metadata": {
    "ExecuteTime": {
     "end_time": "2019-04-23T08:34:59.603272Z",
     "start_time": "2019-04-23T08:34:55.089342Z"
    }
   },
   "outputs": [],
   "source": [
    "\n",
    "def cat_display(data,col):\n",
    "    fig  = plt.figure(figsize=(12,12))\n",
    "    if data[col].nunique()>4:\n",
    "        sns.set(font=myfont.get_name(),font_scale=1.5,palette=sns_palette)\n",
    "        data['_'+col] = data[col]\n",
    "        temp = data[col].value_counts().index.tolist()[:7] if data[col].nunique()>9 else data[col].value_counts().index.tolist()[:3]\n",
    "        data.loc[~data[col].isin(temp),'_'+col]='_others_'\n",
    "        pic = sns.catplot(x=targetY, kind=\"count\",  data=data , col='_'+col,col_wrap=4,col_order=temp + ['_others_'])\n",
    "        \n",
    "    else:\n",
    "        sns.set(font=myfont.get_name(),font_scale= 0.4 * data[col].nunique() ,palette=sns_palette)\n",
    "        pic = sns.catplot(x=targetY, kind=\"count\",  data=data , col=col,col_wrap=data[col].nunique(),col_order=sorted(data[col].dropna().astype(str).unique()))\n",
    "    \n",
    "    \n",
    "    pic.fig.suptitle('Distribution_of '+ col)\n",
    "    plt.subplots_adjust(top=0.85)\n",
    "    plt.show()\n",
    "    plt.savefig(r'Fig/01_Distribution_of_Categorical_'+col+'.png', format='png', dpi=300)\n",
    "    \n",
    "\n",
    "for col in cat_cols[:3]:\n",
    "    cat_display(TrainData,col)"
   ]
  },
  {
   "cell_type": "markdown",
   "metadata": {},
   "source": [
    "\n",
    "<font size=4% face=\"Arial Black\" color=\"GOLD\">Shortcut :  </font>&nbsp;\n",
    "<font size=5% face=\"Microsoft JhengHei\">[系統載入](#SYSTEM) </font>&nbsp;\n",
    "<font size=5% face=\"Microsoft JhengHei\">[特徵觀察](#FEATURES) </font>&nbsp;\n",
    "<font size=5% face=\"Microsoft JhengHei\">[特徵關係](#RELATION) </font>&nbsp;\n",
    "<font size=5% face=\"Microsoft JhengHei\">[缺失觀察](#MISSING) </font>&nbsp;\n",
    "<font size=5% face=\"Microsoft JhengHei\">[特徵報告](#REPORT) </font>&nbsp;\n",
    "\n",
    "<a id=\"RELATION\"></a>"
   ]
  },
  {
   "cell_type": "markdown",
   "metadata": {},
   "source": [
    "# 特徵之間的分佈關係\n",
    "\n",
    "<font size=2% color=YELLOWGREEN>【可以修改】</font>  畫出特徵之間的關係，類別型欄位與數值型欄位關係。"
   ]
  },
  {
   "cell_type": "code",
   "execution_count": null,
   "metadata": {
    "ExecuteTime": {
     "end_time": "2019-04-23T08:35:03.826125Z",
     "start_time": "2019-04-23T08:34:59.605269Z"
    }
   },
   "outputs": [],
   "source": [
    "\n",
    "\n",
    "No_Classes = TrainData[targetY].nunique()\n",
    "\n",
    "if len(cat_cols) >=1:\n",
    "    \n",
    "    x_cols = [col for col in cat_cols if TrainData[col].nunique()<=5]\n",
    "    sns.set(font=myfont.get_name(),font_scale=1.5,palette=sns_palette)\n",
    "    fig,axes=plt.subplots(min(3,len(x_cols)),min(3,len(num_cols)),figsize=(16,16)) if No_Classes == 2 else plt.subplots(4,1,figsize=(16,8))\n",
    "\n",
    "    \n",
    "    for i in range(min(3,len(x_cols))):\n",
    "        for j in range(min(3,len(num_cols))):\n",
    "            \n",
    "            sns.violinplot(x=x_cols[i], y=num_cols[j], data=TrainData, hue=targetY, \n",
    "                           split=True if No_Classes==2 else False,\n",
    "                           ax=axes[i,j] if No_Classes==2 else axes[i*2+j])\n",
    "    sns.set(font=myfont.get_name(),font_scale=1.2)\n",
    "    plt.suptitle('Relation between Features')    \n",
    "    plt.tight_layout(h_pad=2)\n",
    "    plt.subplots_adjust(top=0.93) \n",
    "    plt.show()\n",
    "    plt.savefig(r'Fig/02_Relation_between_Categorical_Features.png', format='png', dpi=300)\n",
    "\n",
    "\n"
   ]
  },
  {
   "cell_type": "markdown",
   "metadata": {},
   "source": [
    "<font size=2% color=YELLOWGREEN>【可以修改】</font>  畫出特徵之間的關係，數值型欄位關係。"
   ]
  },
  {
   "cell_type": "code",
   "execution_count": null,
   "metadata": {
    "ExecuteTime": {
     "end_time": "2019-04-23T08:35:21.295649Z",
     "start_time": "2019-04-23T08:35:03.827088Z"
    }
   },
   "outputs": [],
   "source": [
    "No_Classes = TrainData[targetY].nunique()\n",
    "\n",
    "\n",
    "grid = [(j,k) for j in range(4) for k in range(4) if j < k]\n",
    "\n",
    "fig,axes=plt.subplots(2,3,figsize=(16,12))\n",
    "sns.set(font=myfont.get_name(),font_scale=1.5,palette='bright')\n",
    "for i,(j,k) in enumerate(grid):\n",
    "    sns.scatterplot(x=num_cols[j], y=num_cols[k], data=TrainData, hue=targetY, \n",
    "                       ax=axes[i//3,i%3])\n",
    "    \n",
    "\n",
    "plt.suptitle('Relation between two Features')    \n",
    "plt.tight_layout(h_pad=2)\n",
    "plt.subplots_adjust(top=0.93)\n",
    "#plt.gcf().set_size_inches(16, 12)\n",
    "plt.show()\n",
    "plt.savefig(r'Fig/02_Relation_between_Numeric_Features.png', format='png', dpi=300)"
   ]
  },
  {
   "cell_type": "markdown",
   "metadata": {},
   "source": [
    "## 特徵相關性觀察\n",
    "\n",
    "使用 Pearson's correlation coefficient 繪製特徵之間的關係"
   ]
  },
  {
   "cell_type": "code",
   "execution_count": null,
   "metadata": {
    "ExecuteTime": {
     "end_time": "2019-04-23T08:35:31.780892Z",
     "start_time": "2019-04-23T08:35:21.296647Z"
    }
   },
   "outputs": [],
   "source": [
    "if TrainData[targetY].dtype==('O'):\n",
    "    TrainData[targetY],_ = pd.factorize(TrainData[targetY])  \n",
    "sns.set(font=myfont.get_name())\n",
    "temp = TrainData[[targetY]+num_cols[:15]].dropna().corr()\n",
    "sns.clustermap(temp,annot=True)\n",
    "\n",
    "plt.gcf().set_size_inches(15, 15)\n",
    "plt.show()\n",
    "fig.savefig(r'Fig/03_Correlation_Coefficient.png', format='png', dpi=300)"
   ]
  },
  {
   "cell_type": "markdown",
   "metadata": {},
   "source": [
    "\n",
    "<font size=4% face=\"Arial Black\" color=\"GOLD\">Shortcut :  </font>&nbsp;\n",
    "<font size=5% face=\"Microsoft JhengHei\">[系統載入](#SYSTEM) </font>&nbsp;\n",
    "<font size=5% face=\"Microsoft JhengHei\">[特徵觀察](#FEATURES) </font>&nbsp;\n",
    "<font size=5% face=\"Microsoft JhengHei\">[特徵關係](#RELATION) </font>&nbsp;\n",
    "<font size=5% face=\"Microsoft JhengHei\">[缺失觀察](#MISSING) </font>&nbsp;\n",
    "<font size=5% face=\"Microsoft JhengHei\">[特徵報告](#REPORT) </font>&nbsp;\n",
    "\n",
    "<a id=\"MISSING\"></a>"
   ]
  },
  {
   "cell_type": "markdown",
   "metadata": {},
   "source": [
    "## 缺失值觀察\n",
    "以白色呈現各欄位缺失狀況"
   ]
  },
  {
   "cell_type": "code",
   "execution_count": null,
   "metadata": {
    "ExecuteTime": {
     "end_time": "2019-04-23T08:35:43.912974Z",
     "start_time": "2019-04-23T08:35:31.780892Z"
    }
   },
   "outputs": [],
   "source": [
    "sns.set(font=myfont.get_name())\n",
    "temp = AllData.filter(all_cols[:30])\n",
    "temp = msno.matrix(temp)\n",
    "fig.savefig(r'Fig/04_Missing_Values.png', format='png', dpi=300)"
   ]
  },
  {
   "cell_type": "markdown",
   "metadata": {
    "ExecuteTime": {
     "end_time": "2019-04-23T07:35:37.330726Z",
     "start_time": "2019-04-23T07:35:37.089227Z"
    }
   },
   "source": [
    "## 缺失關係\n",
    "繪出缺失狀況發生的關聯性"
   ]
  },
  {
   "cell_type": "code",
   "execution_count": null,
   "metadata": {
    "ExecuteTime": {
     "end_time": "2019-04-23T08:35:53.677569Z",
     "start_time": "2019-04-23T08:35:43.912974Z"
    }
   },
   "outputs": [],
   "source": [
    "sns.set(font=myfont.get_name())\n",
    "temp = AllData.filter(all_cols[:30])\n",
    "msno.dendrogram(temp)\n",
    "fig.savefig(r'Fig/04_Relation_of_Missing.png', format='png', dpi=300)"
   ]
  },
  {
   "cell_type": "markdown",
   "metadata": {},
   "source": [
    "\n",
    "<font size=4% face=\"Arial Black\" color=\"GOLD\">Shortcut :  </font>&nbsp;\n",
    "<font size=5% face=\"Microsoft JhengHei\">[系統載入](#SYSTEM) </font>&nbsp;\n",
    "<font size=5% face=\"Microsoft JhengHei\">[特徵觀察](#FEATURES) </font>&nbsp;\n",
    "<font size=5% face=\"Microsoft JhengHei\">[特徵關係](#RELATION) </font>&nbsp;\n",
    "<font size=5% face=\"Microsoft JhengHei\">[缺失觀察](#MISSING) </font>&nbsp;\n",
    "<font size=5% face=\"Microsoft JhengHei\">[特徵報告](#REPORT) </font>&nbsp;\n",
    "\n",
    "<a id=\"REPORT\"></a>"
   ]
  },
  {
   "cell_type": "markdown",
   "metadata": {},
   "source": [
    "# 特徵報告\n",
    "使用統計分析等等，建構各欄特徵的統計初礎分析報告。"
   ]
  },
  {
   "cell_type": "code",
   "execution_count": null,
   "metadata": {
    "ExecuteTime": {
     "end_time": "2019-04-23T08:35:53.693191Z",
     "start_time": "2019-04-23T08:35:53.677569Z"
    }
   },
   "outputs": [],
   "source": [
    "%%javascript\n",
    "require(\n",
    "        [\"notebook/js/outputarea\"],\n",
    "        function (oa) {\n",
    "            oa.OutputArea.auto_scroll_threshold = -1;\n",
    "            console.log(\"Setting auto_scroll_threshold to -1\");\n",
    "        });"
   ]
  },
  {
   "cell_type": "code",
   "execution_count": null,
   "metadata": {
    "ExecuteTime": {
     "end_time": "2019-04-23T08:36:50.306942Z",
     "start_time": "2019-04-23T08:35:53.693191Z"
    }
   },
   "outputs": [],
   "source": [
    "import warnings\n",
    "warnings.filterwarnings('ignore')\n",
    "pfr = pandas_profiling.ProfileReport(AllData)\n",
    "pfr.to_file('Fig/Feautre_Report.html')\n",
    "display(pfr)"
   ]
  },
  {
   "cell_type": "code",
   "execution_count": null,
   "metadata": {},
   "outputs": [],
   "source": []
  },
  {
   "cell_type": "code",
   "execution_count": null,
   "metadata": {},
   "outputs": [],
   "source": []
  }
 ],
 "metadata": {
  "kernelspec": {
   "display_name": "Python 3",
   "language": "python",
   "name": "python3"
  },
  "language_info": {
   "codemirror_mode": {
    "name": "ipython",
    "version": 3
   },
   "file_extension": ".py",
   "mimetype": "text/x-python",
   "name": "python",
   "nbconvert_exporter": "python",
   "pygments_lexer": "ipython3",
   "version": "3.6.5"
  },
  "toc": {
   "base_numbering": 1,
   "nav_menu": {},
   "number_sections": true,
   "sideBar": true,
   "skip_h1_title": false,
   "title_cell": "Table of Contents",
   "title_sidebar": "Contents",
   "toc_cell": false,
   "toc_position": {},
   "toc_section_display": true,
   "toc_window_display": false
  }
 },
 "nbformat": 4,
 "nbformat_minor": 2
}
