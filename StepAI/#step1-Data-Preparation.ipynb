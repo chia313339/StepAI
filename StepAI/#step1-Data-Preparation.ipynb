{
 "cells": [
  {
   "cell_type": "markdown",
   "metadata": {},
   "source": [
    "<img src='Title.png'>\n",
    "\n",
    "\n",
    "<p style=\"text-align: right;\"><font face=\"Microsoft JhengHei\"> 精算二部 決策支援系統科 黃喬敬 #2606</font> </p><br>\n",
    "\n",
    "\n",
    "\n",
    "\n",
    "\n",
    "\n",
    "\n",
    "<p style=\"text-align: center;\"> <font size=7% face=\"Microsoft JhengHei\">  Data Processing 資料處理  </font>  </p>\n",
    "\n",
    "\n"
   ]
  },
  {
   "cell_type": "markdown",
   "metadata": {
    "ExecuteTime": {
     "end_time": "2019-04-10T05:09:04.895989Z",
     "start_time": "2019-04-10T05:09:04.890032Z"
    }
   },
   "source": [
    "\n",
    "\n",
    "<font size=4% face=\"Arial Black\" color=\"GOLD\">Shortcut :  </font>&nbsp;\n",
    "<font size=5% face=\"Microsoft JhengHei\">[輸入設定](#INPUT) </font>&nbsp;\n",
    "<font size=5% face=\"Microsoft JhengHei\">[系統載入](#SYSTEM) </font>&nbsp;\n",
    "<font size=5% face=\"Microsoft JhengHei\">[特徵處理](#PREPROCESS) </font>&nbsp;\n",
    "<font size=5% face=\"Microsoft JhengHei\">[資料觀察](#OBSERVATION) </font>&nbsp;\n",
    "<font size=5% face=\"Microsoft JhengHei\">[資料分析](#ANALYSIS) </font>&nbsp;\n",
    "\n",
    "<a id=\"INPUT\"></a>"
   ]
  },
  {
   "cell_type": "markdown",
   "metadata": {},
   "source": [
    "\n",
    "------\n",
    "\n",
    "# 輸入設定\n",
    "\n",
    "<font size=3% face=\"Microsoft JhengHei\" color=RED>  使用 Shift + Enter 執行各區塊  </font> \n",
    "\n",
    "## <font color=DARKRED>設定輸入資料、目標欄位</font>\n",
    "\n",
    "\n",
    "\n",
    "1.  訓練資料設定\n",
    "    ```python\n",
    "    TrainDataFile = 'Train'\n",
    " ```\n",
    "    引號中的 **Train**  改成自己上傳的檔案名稱，以 insurance_train 為例，修改如下\n",
    "    ```python\n",
    "    TrainDataFile = 'insurance_train'\n",
    "    ```\n",
    "    \n",
    "2.  測試資料設定\n",
    "    ```python\n",
    "    TestDataFile = 'Test'\n",
    "    ```\n",
    "    引號中的 **Test**  改成自己上傳的檔案名稱，以 insurance_test 為例，修改如下\n",
    "    ```python\n",
    "    TestDataFile = 'insurance_test'\n",
    "    ```\n",
    "3. 目標欄位設定\n",
    "    ```python\n",
    "    TargetColumn = 'Y'\n",
    "\n",
    "    ```\n",
    "    引號中的 **Y**  改成自己上傳的檔案中，要學習預測的目標欄位的名稱，以 ans 為例，修改如下\n",
    "    ```python\n",
    "    TargetColumn = 'APPROVE'\n",
    "    ```\n",
    "4. ID識別欄位設定\n",
    "    ```python\n",
    "    ID_column = ''\n",
    "\n",
    "    ```\n",
    "    引號中 填入自己上傳的檔案中，作為識別代號的欄位名稱，若無則不必修改，以 'NO_ID' 為例，修改如下\n",
    "    ```python\n",
    "    DropColumns = 'NO_ID', \n",
    "    ```\n",
    "5. 丟棄欄位設定\n",
    "    ```python\n",
    "    DropColumns = ''\n",
    "\n",
    "    ```\n",
    "    引號中 填入自己上傳的檔案中，不需要分析的欄位名稱，多欄以逗號分隔，如 鄰里 或 電話 等，以 'SURVEY_KIND' 及 'INFORM_MEMO' 為例，修改如下\n",
    "    ```python\n",
    "    DropColumns = 'SURVEY_KIND', 'INFORM_MEMO'\n",
    "    ```\n",
    "\n",
    "<font size=4% color=RED>【需要設定】</font>"
   ]
  },
  {
   "cell_type": "code",
   "execution_count": 1,
   "metadata": {
    "ExecuteTime": {
     "end_time": "2019-04-23T06:46:09.001162Z",
     "start_time": "2019-04-23T06:46:08.997172Z"
    }
   },
   "outputs": [],
   "source": [
    "TrainDataFile = 'insurance_train.csv' #insurance_train, income_train, bank_deposit_train\n",
    "TestDataFile  = 'insurance_test.csv' #insurance_test , income_test, bank_deposit_test\n",
    "TargetColumn  = 'APPROVE' #APPROVE, income, y\n",
    "ID_column     =  'NO_ID'# NO_ID ,objid,''\n",
    "DropColumns   =  'SURVEY_KIND', 'INFORM_MEMO','AG_MEMO' #'SURVEY_KIND', 'INFORM_MEMO','AG_MEMO' #,'COUNTRY',"
   ]
  },
  {
   "cell_type": "markdown",
   "metadata": {},
   "source": [
    "## 基本說明\n",
    "\n",
    "<font size=2% color=GREEN>【不需修改】</font> "
   ]
  },
  {
   "cell_type": "code",
   "execution_count": 2,
   "metadata": {
    "ExecuteTime": {
     "end_time": "2019-04-23T06:46:09.014127Z",
     "start_time": "2019-04-23T06:46:09.003156Z"
    }
   },
   "outputs": [
    {
     "data": {
      "text/plain": [
       "3"
      ]
     },
     "execution_count": 2,
     "metadata": {},
     "output_type": "execute_result"
    }
   ],
   "source": [
    "'左方帶有 In [ ]  表示這是程式碼的區塊，在區塊內的程式碼可以執行，游標移至區塊內並按下 Shift + Enter ，即可執行此區塊內的程式'\n",
    "'In [ ] 的中括號 [ ] 內的數字表示執行順序，在介面開啟之後執行過的變數都會存在 (除非重啟核心或重開介面) ，類似 Script 執行概念'\n",
    "\n",
    "1 + 2\n",
    "#a+9   #這行是用來產生錯誤範例用的"
   ]
  },
  {
   "cell_type": "markdown",
   "metadata": {},
   "source": [
    "<img src='../sys/ErrorExample1.png' width=\"70%\" >\n",
    "\n",
    "* 錯誤訊息範例如上圖所示 <font color=OliveDrab size=4%> ↑ </font> ，請**觀察錯誤訊息原因並修改**後重新執行一次  Shift + Enter \n",
    "\n",
    "* 如果是之前的區塊執行造成的錯誤，則之前的區塊 (及過程中相關的區塊) 及錯誤區塊都要重新執行一次  Shift + Enter \n",
    "\n",
    "\n",
    "------\n",
    "## 工具列介面\n",
    "\n",
    "<img src='../sys/UIExample1.png' width=\"40%\" >\n",
    "\n",
    "執行介面範例如上圖所示 ， 包含數種功能 <font color=OliveDrab size=4%> ↑ </font> ，請依需求使用\n",
    "* Interrupt: 中斷目前執行\n",
    "* Restart & Run All : **全部重新執行**  如果已經執行過一次了，只是修改一點參數或是檔案想全部重跑，可以直接按這個"
   ]
  },
  {
   "cell_type": "markdown",
   "metadata": {},
   "source": [
    "\n",
    "## 事前教學: \n",
    "\n",
    "<font size=2% color=DARKSLATEBLUE>轉為註解 / 取消註解 : 可以全選(ctrl+a)整個區塊然後(ctrl+/)</font>\n",
    "\n",
    "以下會針對各種資料及特徵進行不同處理，每份資料不一定需要哪種處理法，<font color=MIDNIGHTBLUE> **如果不需要請在指令前加上井字號 # 轉為註解** </font>\n",
    "\n",
    "**範例 :**\n",
    "```python\n",
    "print('我不想要這行')\n",
    "```\n",
    "**加上井字號 # 轉為註解，把上面變成下面這樣 :** \n",
    "\n",
    "```python\n",
    "#print('我不想要這行')\n",
    "```\n",
    "\n",
    "\n",
    "<font color=DARKSLATEBLUE  face=\"Microsoft JhengHei\" size=2%>快捷鍵 : 可以全選 (ctrl+a) 整個區塊然後 (ctrl+/) </font>\n",
    "\n"
   ]
  },
  {
   "cell_type": "markdown",
   "metadata": {},
   "source": [
    "\n",
    "## 資料型式   .CSV 檔案格式\n",
    "\n",
    "\n",
    "* 各項特徵值以數值為主，文字會被轉成數值 (比如 male/female 可能會被轉成 0/1 或 1/0) \n",
    "\n",
    "* 缺值或文字異常原則上會自動處理，但無法保證不會出錯\n",
    "\n",
    "\n",
    "<font color=DARKSLATEBLUE  face=\"Microsoft JhengHei\" size=2%>訓練資料格式 </font>\n",
    "\n",
    "ID(不一定要)；目標值可以是變數的其中一個，不一定要列在最後\n",
    "\n",
    "ID | 變數名1 | ... | 變數名m | 目標值\n",
    "---- | ---| ---| ---| ---\n",
    "id_1 | x_11 | ... | x_m1 | y_1\n",
    ".. | .. | ... | .. | ..\n",
    "id_n | x_1n | ... | x_mn | y_n\n",
    "\n",
    "\n",
    "<font color=DARKSLATEBLUE  face=\"Microsoft JhengHei\" size=2%>測試資料格式 </font>\n",
    "\n",
    "ID(不一定要，使用者自己辨認用)；**欄位必需與訓練資料相同，或是欄位剛好少一欄目標值**\n",
    "\n",
    "\n",
    "ID | 變數名1 | ... | 變數名m \n",
    "---- | ---| ---| ---\n",
    "id_1 | x_11 | ... | x_m1\n",
    ".. | .. | ... | .. \n",
    "id_n | x_1n | ... | x_mn \n",
    "\n",
    "如果測試資料也包含目標欄位，可以在預測階段進行對答案計算準確率 \n"
   ]
  },
  {
   "cell_type": "markdown",
   "metadata": {},
   "source": [
    "\n",
    "\n",
    "<font size=4% face=\"Arial Black\" color=\"GOLD\">Shortcut :  </font>&nbsp;\n",
    "<font size=5% face=\"Microsoft JhengHei\">[輸入設定](#INPUT) </font>&nbsp;\n",
    "<font size=5% face=\"Microsoft JhengHei\">[系統載入](#SYSTEM) </font>&nbsp;\n",
    "<font size=5% face=\"Microsoft JhengHei\">[特徵處理](#PREPROCESS) </font>&nbsp;\n",
    "<font size=5% face=\"Microsoft JhengHei\">[資料觀察](#OBSERVATION) </font>&nbsp;\n",
    "<font size=5% face=\"Microsoft JhengHei\">[資料分析](#ANALYSIS) </font>&nbsp;\n",
    "\n",
    "<a id=\"SYSTEM\"></a>"
   ]
  },
  {
   "cell_type": "markdown",
   "metadata": {},
   "source": [
    "# 系統載入\n",
    "\n",
    "<font size=2% color=GREEN>【不需修改】</font>\n",
    "開始設定載入各類套件及基礎設定"
   ]
  },
  {
   "cell_type": "code",
   "execution_count": 3,
   "metadata": {
    "ExecuteTime": {
     "end_time": "2019-04-23T08:33:02.689743Z",
     "start_time": "2019-04-23T08:33:01.377018Z"
    }
   },
   "outputs": [
    {
     "data": {
      "application/javascript": [
       "IPython.notebook.set_autosave_interval(180000)"
      ]
     },
     "metadata": {},
     "output_type": "display_data"
    },
    {
     "name": "stdout",
     "output_type": "stream",
     "text": [
      "Autosaving every 180 seconds\n",
      "python 3.6.7 | packaged by conda-forge | (default, Feb 28 2019, 09:07:38) \n",
      "[GCC 7.3.0]\n",
      "numpy 1.14.2\n",
      "pandas 0.24.2\n",
      "sklearn 0.20.3\n",
      "unicodecsv 0.14.1\n"
     ]
    }
   ],
   "source": [
    "from IPython.core.display import display, HTML\n",
    "import warnings\n",
    "import numpy             as np\n",
    "import pandas            as pd\n",
    "#import tables\n",
    "import sys, os, csv, timeit\n",
    "import xlrd\n",
    "import unicodecsv\n",
    "\n",
    "import gc\n",
    "gc.enable()\n",
    "import sklearn\n",
    "from sklearn.preprocessing import MinMaxScaler, StandardScaler, RobustScaler, Normalizer, QuantileTransformer, PowerTransformer\n",
    "\n",
    "if not os.path.exists(r'_temp'):\n",
    "    os.makedirs(r'_temp') \n",
    "\n",
    "pd.set_option('display.max_columns', 500)\n",
    "\n",
    "%autosave 180 \n",
    "\n",
    "warnings.simplefilter(action='ignore', category=pd.errors.PerformanceWarning)\n",
    "\n",
    "print('python',sys.version)\n",
    "print('numpy',np.__version__)\n",
    "print('pandas',pd.__version__)\n",
    "#print('tables',tables.__version__)\n",
    "print('sklearn',sklearn.__version__)\n",
    "#print('xlrd',xlrd.__version__)\n",
    "print('unicodecsv',unicodecsv.__version__)"
   ]
  },
  {
   "cell_type": "markdown",
   "metadata": {},
   "source": [
    "## 程式開始\n",
    "<font size=2% color=GREEN>【不需修改】</font>開始轉換並讀取訓練及測試檔案。\n",
    "處理各類型編碼及檔案檔名錯誤等問題。"
   ]
  },
  {
   "cell_type": "code",
   "execution_count": null,
   "metadata": {
    "ExecuteTime": {
     "end_time": "2019-04-23T06:46:10.325626Z",
     "start_time": "2019-04-23T06:46:10.316651Z"
    }
   },
   "outputs": [],
   "source": [
    "\n",
    "def xls2csv (filename):\n",
    "    if filename.split('.')[-1] in ( 'csv' , 'txt'):\n",
    "        return filename\n",
    "    elif filename.split('.')[-1] not in ('xls', 'xlsx'):\n",
    "        if os.path.exists(filename + '.csv'):\n",
    "            return filename + '.csv'\n",
    "        elif os.path.exists(filename + '.xls') :\n",
    "            filenamexls = filename + '.xls'\n",
    "        elif os.path.exists(filename + '.xlsx'):\n",
    "            filenamexls = filename + '.xlsx'\n",
    "    else:\n",
    "        filenamexls = filename\n",
    "\n",
    "    wb = xlrd.open_workbook(filenamexls, encoding_override=\"cp950\")\n",
    "    sh = wb.sheet_by_index(0)\n",
    "\n",
    "    filenamecsv = filenamexls.replace('xlsx','csv').replace('xls','csv')\n",
    "    with open(filenamecsv,\"wb\") as fh:\n",
    "        csv_out = unicodecsv.writer(fh, encoding = 'utf-8')\n",
    "        for row_number in range(sh.nrows):\n",
    "            print(sh.row_values(row_number))\n",
    "            #force_decode(sh.row_values(row_number))\n",
    "            csv_out.writerow(sh.row_values(row_number))\n",
    "    fh.close()\n",
    "    return filenamecsv\n",
    "\n"
   ]
  },
  {
   "cell_type": "markdown",
   "metadata": {
    "ExecuteTime": {
     "end_time": "2019-04-10T06:53:06.806681Z",
     "start_time": "2019-04-10T06:53:06.801677Z"
    }
   },
   "source": [
    "## 存儲讀取HDF設置\n",
    "\n",
    "<font size=2% color=GREEN>【不需修改】</font> 建立儲存HDF與讀取HDF的方程式\n"
   ]
  },
  {
   "cell_type": "code",
   "execution_count": null,
   "metadata": {
    "ExecuteTime": {
     "end_time": "2019-04-23T06:46:10.335599Z",
     "start_time": "2019-04-23T06:46:10.326633Z"
    }
   },
   "outputs": [],
   "source": [
    "def dfs_to_hdf(TrainDF,TestDF, HDFname, TrainID_ = '',TestID_ =''):\n",
    "    if type(TrainID_) == pd.core.series.Series and  type(TestID_) == pd.core.series.Series:\n",
    "        TrainDF.insert(0, \"_ID__\", TrainID_) \n",
    "        TestDF.insert(0, \"_ID__\", TestID_) \n",
    "    TrainDF['_targetY__'] = TargetColumn\n",
    "    TrainDF.to_hdf(r'_temp/'+HDFname+'.hdf','Train',mode='w')\n",
    "    TestDF.to_hdf(r'_temp/'+HDFname+'.hdf','Test')\n",
    "    TrainDF.drop(['_ID__','_targetY__'],axis=1,inplace=True)\n",
    "    TestDF.drop(['_ID__'],axis=1,inplace=True)\n",
    "    \n",
    "def hdf_to_dfs(HDFname):\n",
    "    train = pd.read_hdf(r'_temp/'+HDFname+'.hdf','Train')\n",
    "    test =  pd.read_hdf(r'_temp/'+HDFname+'.hdf','Test')\n",
    "    return train.drop(['_ID__','_targetY__'],axis=1), test.drop(['_ID__'],axis=1) ,train['_targetY__'].values[0], train['_ID__'], test['_ID__']"
   ]
  },
  {
   "cell_type": "markdown",
   "metadata": {},
   "source": [
    "## 載入資料\n",
    "\n",
    " \n",
    "<font size=2% color=GREEN>【不需修改】</font>  讀取檔案、印出前五行觀察。以下為範例，如需使用請將檔案上傳至同資料夾並更改檔名讀取\n",
    "\n",
    "<font color=CRIMSON size=1.5%>為節省系統空間，前次執行的結果檔與模型會直接刪除或覆蓋，請自行保留檔案 </font>"
   ]
  },
  {
   "cell_type": "code",
   "execution_count": null,
   "metadata": {
    "ExecuteTime": {
     "end_time": "2019-04-23T07:13:30.471200Z",
     "start_time": "2019-04-23T07:13:29.169679Z"
    }
   },
   "outputs": [],
   "source": [
    "TrainDataFileCSV = xls2csv(TrainDataFile)\n",
    "TestDataFileCSV = xls2csv(TestDataFile)\n",
    "def mixtoutf(name):\n",
    "    with open(name, 'r', errors='ignore') as in_file:\n",
    "        stripped = (line.strip() for line in in_file)\n",
    "        lines = (line.split(\",\") for line in stripped if line)\n",
    "        with open('temp', 'w', encoding='utf-8') as out_file:\n",
    "            writer = csv.writer(out_file)\n",
    "            writer.writerows(lines)\n",
    "        return pd.read_csv('temp')\n",
    "\n",
    "\n",
    "try:\n",
    "    TrainData = pd.read_csv(TrainDataFileCSV)\n",
    "except UnicodeDecodeError:\n",
    "    try:\n",
    "        TrainData = pd.read_csv(TrainDataFileCSV, encoding='big5')\n",
    "    except:\n",
    "        TrainData = mixtoutf(TrainDataFileCSV)\n",
    "try:\n",
    "    TestData = pd.read_csv(TestDataFileCSV)\n",
    "except UnicodeDecodeError:\n",
    "    try:\n",
    "        TestData = pd.read_csv(TestDataFileCSV, encoding='big5')\n",
    "    except:\n",
    "        TestData = mixtoutf(TestDataFileCSV)\n",
    "No_Classes = pd.concat([TrainData, TestData])[TargetColumn].nunique()\n",
    "print()\n",
    "print('目標類別數目：', No_Classes)\n",
    "\n",
    "'觀察一下前五列資料'\n",
    "display(TrainData.head(5))\n",
    "\n",
    "TrainData.describe()"
   ]
  },
  {
   "cell_type": "markdown",
   "metadata": {
    "ExecuteTime": {
     "end_time": "2019-04-10T07:36:40.823388Z",
     "start_time": "2019-04-10T07:36:40.818403Z"
    }
   },
   "source": [
    "<font size=2% color=GREEN>【不需修改】</font>  移除初始設定為丟棄的欄位"
   ]
  },
  {
   "cell_type": "code",
   "execution_count": null,
   "metadata": {
    "ExecuteTime": {
     "end_time": "2019-04-23T06:46:11.343292Z",
     "start_time": "2019-04-23T06:46:11.278492Z"
    }
   },
   "outputs": [],
   "source": [
    "'移除不必要欄位，可能是 ID 或是轉換 TargetColumn 之前的原值，如果沒有就留空 即可'\n",
    "DropColumns = [DropColumns] if type(DropColumns) is str else list(DropColumns) if type(DropColumns) is not list else DropColumns\n",
    "DropColumns.remove('') if '' in DropColumns else None\n",
    "if ID_column != '':\n",
    "    DropColumns.append(ID_column)\n",
    "    TrainID = TrainData[ID_column]\n",
    "    TestID = TestData[ID_column]\n",
    "else:\n",
    "    TrainID = pd.Series(TrainData.index)\n",
    "    TestID = pd.Series(TestData.index + TrainData.index.max()+1)\n",
    "TrainData.drop(DropColumns,axis = 1,inplace = True, errors = 'ignore')\n",
    "TestData.drop (DropColumns,axis = 1,inplace = True, errors = 'ignore')\n",
    "\n",
    "\n",
    "print()\n",
    "'印出訓練資料及測試資料的筆數與欄位數'\n",
    "print('訓練資料筆數：', TrainData.shape[0], '   訓練資料欄位數：',TrainData.shape[1])\n",
    "print('測試資料筆數：', TestData.shape[0] , '   測試資料欄位數：',TestData.shape[1])\n",
    "\n",
    "temp = set(TrainData.columns.values) - set(TestData.columns.values) \n",
    "if not ((temp == set(TargetColumn) ) or (temp ==  set())):\n",
    "    display(HTML('<h1 style=\"color:red;\">Train 與 Test 資料欄位不合，請確認欄位:'+temp+'</h1>'))\n",
    "print()    \n",
    "print('各欄位名稱:')\n",
    "temp = TrainData.columns.values\n",
    "#display(pd.DataFrame(TrainData.columns.values.reshape(min(20,TrainData.columns.shape[0]),-1)))\n",
    "display(HTML(pd.DataFrame(np.array(list(temp) + ['']*((20-len(temp)%20)%20)).reshape(20,int(np.ceil(len(temp)/20)))).to_html(index=False)))"
   ]
  },
  {
   "cell_type": "markdown",
   "metadata": {},
   "source": [
    "<font size=2% color=GREEN>【不需修改】</font>  簡易合併觀察各欄位資料型態\n",
    "* 請注意類別為 **object** 的欄位，極有可能是含有錯誤值，比如原始資料中的缺失值為 NON 或 x 等型態，在 python 中會視為文字。\n",
    "* 請注意數量不等同於 entries (訓練+測試資料量)的欄位，則其為包含缺值。"
   ]
  },
  {
   "cell_type": "code",
   "execution_count": null,
   "metadata": {
    "ExecuteTime": {
     "end_time": "2019-04-23T06:46:11.807051Z",
     "start_time": "2019-04-23T06:46:11.345286Z"
    }
   },
   "outputs": [],
   "source": [
    "pd.concat([TrainData,TestData],axis=0).reset_index(drop=True).info(verbose=1,null_counts=1)\n",
    "\n",
    "#df.columns.to_series().groupby(df.dtypes).groups"
   ]
  },
  {
   "cell_type": "markdown",
   "metadata": {},
   "source": [
    "\n",
    "<font size=4% face=\"Arial Black\" color=\"GOLD\">Shortcut :  </font>&nbsp;\n",
    "<font size=5% face=\"Microsoft JhengHei\">[輸入設定](#INPUT) </font>&nbsp;\n",
    "<font size=5% face=\"Microsoft JhengHei\">[系統載入](#SYSTEM) </font>&nbsp;\n",
    "<font size=5% face=\"Microsoft JhengHei\">[特徵處理](#PREPROCESS) </font>&nbsp;\n",
    "<font size=5% face=\"Microsoft JhengHei\">[資料觀察](#OBSERVATION) </font>&nbsp;\n",
    "<font size=5% face=\"Microsoft JhengHei\">[資料分析](#ANALYSIS) </font>&nbsp;\n",
    "\n",
    "<a id=\"PREPROCESS\"></a>"
   ]
  },
  {
   "cell_type": "markdown",
   "metadata": {},
   "source": [
    "# 特徵處理\n",
    "\n",
    "不同缺失型態處理、異常欄位值、缺失值填補簡易處理\n",
    "\n",
    "## 不同缺失值處理\n",
    "\n",
    "由於檔案來源不同，原始檔案的缺失值在 Python 中可能會被判為字串或有意義文字，在此進行簡易處理。\n",
    "* 在 Possible_Missing 中增加或移除特定缺失值文字\n",
    "\n",
    "<font size=2% color=YELLOWGREEN>【可以修改】</font> 建議觀察讀入的資料，修訂預設的不同缺失處理"
   ]
  },
  {
   "cell_type": "code",
   "execution_count": null,
   "metadata": {
    "ExecuteTime": {
     "end_time": "2019-04-23T06:46:14.850874Z",
     "start_time": "2019-04-23T06:46:11.808050Z"
    }
   },
   "outputs": [],
   "source": [
    "Possible_Missing = ('','?','#N/A','#NA','-NaN','-nan','N/A', 'NA', 'NULL', 'NaN', 'n/a', 'nan', 'null','NON')\n",
    "\n",
    "TrainData = TrainData.replace({key: np.nan for key in Possible_Missing})\n",
    "TestData = TestData.replace({key: np.nan for key in Possible_Missing})"
   ]
  },
  {
   "cell_type": "markdown",
   "metadata": {},
   "source": [
    "## Y/N 及數字文字處理\n",
    "\n",
    "由於檔案來源不同，原始檔案的 Y / N 在 Python 中會被判為字串，為避免批次轉換數值不適當 (例如Y=0,N=1異常)，可修改 **YandN** 內容以符合資料。\n",
    "\n",
    "\n",
    "\n",
    "同時如果欄位內僅有 '1', '2' 等數字文字，可以將其轉為數字，如果欄位是數字欄位 (文字應該轉為數字)，請將\n",
    "\n",
    "```python\n",
    "NumStr = False\n",
    "```\n",
    "修改為\n",
    "```python\n",
    "NumStr = True\n",
    "```\n",
    "\n",
    "同時移除全部資料值都一樣的欄位\n",
    "\n",
    "訓練及測試資料合併轉換，預設同欄位中只處理同一類型的 Y/N。\n",
    "\n",
    "<font size=2% color=YELLOWGREEN>【可以修改】</font> 建議觀察讀入的資料，檢視數字類別，並修訂預設的不同Y/N處理"
   ]
  },
  {
   "cell_type": "code",
   "execution_count": null,
   "metadata": {
    "ExecuteTime": {
     "end_time": "2019-04-23T06:46:15.941661Z",
     "start_time": "2019-04-23T06:46:14.852869Z"
    }
   },
   "outputs": [],
   "source": [
    "NumStr = False\n",
    "\n",
    "YandN = [('NO','YES'),('N','Y'),('n','y'),('no','yes'),('No','Yes')]\n",
    "\n",
    "YNnaSET = [set((temp))for temp in YandN] + [set(list(temp)+[np.nan])for temp in YandN] \n",
    "AllData = pd.concat([TrainData,TestData],axis=0)\n",
    "for col in AllData:\n",
    "    if NumStr and (AllData[col].dtype == 'object'):\n",
    "        AllData[col] = pd.to_numeric(AllData[col], errors='ignore') \n",
    "    temp = AllData[col].unique()\n",
    "    if set(temp) in YNnaSET:\n",
    "        tempYN = YNnaSET.index(set(temp))%len(YandN)\n",
    "        AllData[col] = AllData[col].map({YandN[tempYN][0]:0, YandN[tempYN][1]:1})\n",
    "        \n",
    "temp = AllData.columns[(AllData.nunique()==1)]\n",
    "if len(temp)>0:\n",
    "    print('移除以下在全部資料中值都相同的欄位')\n",
    "    display(pd.DataFrame(temp))\n",
    "    AllData = AllData.drop(temp,axis=1)   \n",
    "        \n",
    "TrainData = AllData[:TrainData.shape[0]].reset_index(drop=True)\n",
    "TestData = AllData[TrainData.shape[0]:].reset_index(drop=True)  \n",
    "\n",
    "del AllData, YNnaSET, temp"
   ]
  },
  {
   "cell_type": "markdown",
   "metadata": {},
   "source": [
    "## 異常值處理\n",
    "\n",
    "\n",
    "將數值在 7 倍標準差以外的特徵值移除，成為缺失值。\n",
    "\n",
    "\n",
    "<font size=2% color=ORANGE>【需要注意】</font> 將直接移除極端異常值，真實應用應先檢視資料並先行處理\n",
    "\n",
    "<font size=2% color=YELLOWGREEN>【可以修改】</font> 建議觀察讀入的資料，檢視數值類別"
   ]
  },
  {
   "cell_type": "code",
   "execution_count": null,
   "metadata": {
    "ExecuteTime": {
     "end_time": "2019-04-23T06:46:17.514782Z",
     "start_time": "2019-04-23T06:46:15.941661Z"
    }
   },
   "outputs": [],
   "source": [
    "def DisRed(s,mask_):\n",
    "    return mask_[s.name].replace({True:'color: red',False:''})\n",
    "\n",
    "def RemovebyStd(train,test):\n",
    "    df = pd.concat([train,test],axis=0).reset_index(drop=True)\n",
    "\n",
    "    num_cols = [col for col in df.columns if df[col].dtype != 'object' and df[col].nunique() >50] \n",
    "    #cat_cols = [col for col in df.columns if col not in num_cols] \n",
    "    num_df = df.filter(num_cols)\n",
    "    mask1 = (num_df - num_df.mean()).abs() > 7 * num_df.std()   \n",
    "    #cat_df = df.filter(cat_cols)\n",
    "    #mask2 = pd.DataFrame(np.zeros(cat_df.shape, dtype=bool))\n",
    "    #mask2 = cat_df.isna()\n",
    "    #mask_ = pd.concat([mask1,mask2],axis=1)\n",
    "\n",
    "    df_sample=df[mask1.sum(axis=1)>0].head(10)\n",
    "    mask_sample=mask1[mask1.sum(axis=1)>0].head(10)\n",
    "    display(df_sample[num_cols].style.apply(DisRed,mask_ = mask_sample))\n",
    "    \n",
    "    df[num_cols] = df[num_cols].mask(mask1)\n",
    "    return df[:train.shape[0]], df[train.shape[0]:]\n",
    "\n",
    "TrainData, TestData = RemovebyStd(TrainData,TestData)"
   ]
  },
  {
   "cell_type": "markdown",
   "metadata": {},
   "source": [
    "\n",
    "## 變數特徵處理\n",
    "\n",
    "資料中常有異常錯誤，例如文字型態中有 '7' 及 '7.0' ，程式會將其視為不同文字而進行類別區隔。\n",
    "\n",
    "應謹慎觀察資料進行調整\n",
    "\n",
    "例如範例資料中，欄位 'EXAMINE_07' 包含項目如下：\n",
    "```python\n",
    "TrainData.EXAMINE_07.unique() #顯示如下\n",
    "['0.0', '0', nan, '1', '4.0', '4', '1.0', 'C', '8', '7', '6', '5', '8.0', '7.0', '9']\n",
    "```\n",
    "可得知除了文字 'C' 以外是可以轉為數字的，並且小數型態跟整數型態可以合併。\n",
    "\n",
    "所以應做以下轉換，將 'EXAMINE_07' 欄位中，不等於'C'的欄位進行數字轉換以合併不同型態：\n",
    "\n",
    "```python\n",
    "AllData = pd.concat([TrainData,TestData],axis=0)\n",
    "AllData.loc[(AllData['EXAMINE_07'] != 'C'),'EXAMINE_07'] = pd.to_numeric(AllData.loc[(AllData['EXAMINE_07'] != 'C'),'EXAMINE_07'], errors='ignore')\n",
    "TrainData = AllData[:TrainData.shape[0]].reset_index(drop=True)\n",
    "TestData = AllData[TrainData.shape[0]:].reset_index(drop=True) \n",
    "del AllData\n",
    "```\n",
    "\n",
    "<font size=2% color=ORANGE>【建議修改】</font> 建議觀察讀入的資料進行各項欄位自行修改。以下僅顯示範例資料處理。"
   ]
  },
  {
   "cell_type": "code",
   "execution_count": null,
   "metadata": {
    "ExecuteTime": {
     "end_time": "2019-04-23T06:46:17.841065Z",
     "start_time": "2019-04-23T06:46:17.515780Z"
    }
   },
   "outputs": [],
   "source": [
    "AllData = pd.concat([TrainData,TestData],axis=0)\n",
    "AllData.loc[(AllData['EXAMINE_07'] != 'C'),'EXAMINE_07'] = pd.to_numeric(AllData.loc[(AllData['EXAMINE_07'] != 'C'),'EXAMINE_07'], errors='ignore')\n",
    "TrainData = AllData[:TrainData.shape[0]].reset_index(drop=True)\n",
    "TestData = AllData[TrainData.shape[0]:].reset_index(drop=True) \n",
    "del AllData"
   ]
  },
  {
   "cell_type": "markdown",
   "metadata": {},
   "source": [
    "<font size=2% color=GREEN>【不需修改】</font>  在類別特徵欄位轉換之前，將目前基礎處理結束之資料存入檔案 data_basic。"
   ]
  },
  {
   "cell_type": "code",
   "execution_count": null,
   "metadata": {
    "ExecuteTime": {
     "end_time": "2019-04-23T06:46:18.470443Z",
     "start_time": "2019-04-23T06:46:17.841065Z"
    }
   },
   "outputs": [],
   "source": [
    "dfs_to_hdf(TrainData,TestData,'data_basic',TrainID,TestID)"
   ]
  },
  {
   "cell_type": "markdown",
   "metadata": {},
   "source": [
    "## 類別特徵轉換\n",
    "\n",
    "將類別型變數特徵轉換為 one-hot-encoding 型式展開，不需使用 one-hot-encoding 型式的欄位可以在 numeric_label 中增修。\n",
    "\n",
    "以 '特定欄位名稱1', '特定欄位名稱2' 為例，將其新增\n",
    "```python\n",
    "numeric_label = []\n",
    "```\n",
    "改為\n",
    "```python\n",
    "numeric_label = ['特定欄位名稱1', '特定欄位名稱2']\n",
    "```\n",
    "\n",
    "\n",
    "\n",
    "預設保留缺失值，如果要將缺失值標註為一欄，則請進行以下修改\n",
    "```python\n",
    "nan_as_col = False\n",
    "```\n",
    "改為\n",
    "```python\n",
    "nan_as_col = True\n",
    "```\n",
    "\n",
    "\n",
    "<font size=2% color=YELLOWGREEN>【可以修改】</font> 建議觀察讀入的資料進行調整。"
   ]
  },
  {
   "cell_type": "code",
   "execution_count": null,
   "metadata": {
    "ExecuteTime": {
     "end_time": "2019-04-23T06:46:21.110336Z",
     "start_time": "2019-04-23T06:46:18.470443Z"
    },
    "scrolled": true
   },
   "outputs": [],
   "source": [
    "numeric_label = []\n",
    "nan_as_col = False\n",
    "\n",
    "def one_hot_bycol(df, cols, na_col=False):\n",
    "    for col in cols:\n",
    "        if df[col].nunique() > 2:\n",
    "            temp = df[col].isna()\n",
    "            dummies = pd.get_dummies(df[col],dummy_na=na_col,prefix =col)\n",
    "        else:\n",
    "            temp = df[col].isna()\n",
    "            dummies = pd.get_dummies(df[col],dummy_na=na_col,prefix =col,drop_first=True)\n",
    "        if na_col == False:\n",
    "            dummies[temp] = np.nan\n",
    "        df = pd.concat([df.drop([col],axis=1),dummies],axis=1)\n",
    "    return df\n",
    "            \n",
    "def one_hot_encoder(train,test, label_factors = [], nan_as_category = False):\n",
    "    df = pd.concat([train,test]).drop([TargetColumn],axis=1).reset_index(drop=True)\n",
    "    \n",
    "    for col in label_factors:\n",
    "        labels, uniques = pd.factorize(df[col],sort =True)\n",
    "        df[col] = labels + 1\n",
    "        [print(uniques.get_loc(unque)+1 ,' <--- ',unque)  for unque in uniques]\n",
    "\n",
    "#     categorical_cols_b = [col for col in df.columns if df[col].dtype == 'object' and df[col].nunique() <= 2]\n",
    "#     categorical_cols_ = [col for col in df.columns if df[col].dtype == 'object' and df[col].nunique() > 2]\n",
    "    catego_cols = [col for col in df.columns if df[col].dtype == 'object' ]\n",
    "    \n",
    "    print('\\n以下欄位將轉換為數值:')\n",
    "    #display(pd.DataFrame(categorical_cols_+categorical_cols_b))\n",
    "    display(pd.DataFrame(catego_cols))\n",
    "    #     df = pd.get_dummies(df, columns = categorical_cols_b, dummy_na = nan_as_category,drop_first=True)\n",
    "#     df = pd.get_dummies(df, columns = categorical_cols_, dummy_na = nan_as_category)\n",
    "    \n",
    "    \n",
    "    df = one_hot_bycol(df,catego_cols,na_col = nan_as_category)\n",
    "    \n",
    "\n",
    "    df.loc[df.index[:train.shape[0]],TargetColumn] = train[TargetColumn].values\n",
    "    df.loc[df.index[train.shape[0]:],TargetColumn] = np.nan if TargetColumn not in test.columns.values else test[TargetColumn].values\n",
    "    if df[TargetColumn].dtype == 'object':\n",
    "        print('\\n目標欄位 ',TargetColumn,' 將轉換為數值:', )\n",
    "        labels, uniques = pd.factorize(df[TargetColumn],sort =True,na_sentinel =-1e9)\n",
    "        df[TargetColumn] = [np.nan if x==-1e9 else x for x in labels]\n",
    "        [print(uniques.get_loc(unque) ,' <--- ',unque)  for unque in uniques]\n",
    "        \n",
    "    print('\\n以下為新增欄位:')\n",
    "    temp= [col for col in df.columns.values if col not in train.columns.values]\n",
    "    display(HTML(pd.DataFrame(np.array(list(temp) + ['']*((15-len(temp)%15)%15)).reshape(15,int(np.ceil(len(temp)/15)))).to_html(index=False)))\n",
    "    #display(pd.DataFrame([col for col in df.columns.values if col not in train.columns.values]))\n",
    "\n",
    "    return df[:train.shape[0]].reset_index(drop=True),df[train.shape[0]:].reset_index(drop=True)\n",
    "\n",
    "TrainData_Na_OHE,TestData_Na_OHE = one_hot_encoder(TrainData,TestData,label_factors = numeric_label , nan_as_category = nan_as_col)\n",
    "\n",
    "print('資料筆數：', TrainData_Na_OHE.shape[0] + TestData_Na_OHE.shape[0], '   資料欄位數 (不含目標欄)：',TrainData_Na_OHE.shape[1]-1)\n",
    "\n"
   ]
  },
  {
   "cell_type": "markdown",
   "metadata": {},
   "source": [
    "<font size=2% color=GREEN>【不需修改】</font>  在類別特徵欄位轉換之前，將目前基礎處理結束之資料存入檔案 data_Na_OHE。"
   ]
  },
  {
   "cell_type": "code",
   "execution_count": null,
   "metadata": {
    "ExecuteTime": {
     "end_time": "2019-04-23T06:46:21.940664Z",
     "start_time": "2019-04-23T06:46:21.111940Z"
    }
   },
   "outputs": [],
   "source": [
    "dfs_to_hdf(TrainData_Na_OHE,TestData_Na_OHE,'data_Na_OHE',TrainID,TestID)\n",
    "del TrainData_Na_OHE, TestData_Na_OHE"
   ]
  },
  {
   "cell_type": "markdown",
   "metadata": {},
   "source": [
    "## 填補缺失值\n",
    "許多演算法要求資料不能有缺失值，故進行填補。然而填值會造成資料破壞，故方法需謹慎挑選使用。\n",
    "\n",
    "<font size=2% color=GREEN>【不需修改】</font> 展示目前缺失值狀況，僅列出最多缺失值的10個欄位。"
   ]
  },
  {
   "cell_type": "code",
   "execution_count": null,
   "metadata": {
    "ExecuteTime": {
     "end_time": "2019-04-23T06:46:22.008011Z",
     "start_time": "2019-04-23T06:46:21.941662Z"
    }
   },
   "outputs": [],
   "source": [
    "TrainData.isnull().sum().sort_values(ascending = False).head(10)"
   ]
  },
  {
   "cell_type": "markdown",
   "metadata": {},
   "source": [
    "\n",
    "\n",
    "\n",
    "<font size=2% color=YELLOWGREEN>【可以修改】</font> 預設以各欄之眾數填補該欄缺失值\n"
   ]
  },
  {
   "cell_type": "code",
   "execution_count": null,
   "metadata": {
    "ExecuteTime": {
     "end_time": "2019-04-23T06:46:22.015425Z",
     "start_time": "2019-04-23T06:46:22.009434Z"
    }
   },
   "outputs": [],
   "source": [
    "\n",
    "def FillNa(train,test,groupbycol=[]):\n",
    "    AllData = pd.concat([train,test],axis=0)\n",
    "    for col in [col for col in AllData.columns[AllData.isnull().sum() !=0] if col != TargetColumn]:\n",
    "        if len(groupbycol) ==0:\n",
    "            AllData[col] = AllData[col].fillna(AllData[col].mode()[0])\n",
    "        else:\n",
    "            AllData[col] = AllData.groupby(groupbycol).transform(lambda x: x.fillna(x.mode()))\n",
    "    return AllData[:TrainData.shape[0]].reset_index(drop=True),AllData[TrainData.shape[0]:].reset_index(drop=True)  "
   ]
  },
  {
   "cell_type": "markdown",
   "metadata": {
    "ExecuteTime": {
     "end_time": "2019-04-11T01:58:56.007711Z",
     "start_time": "2019-04-11T01:58:56.003721Z"
    }
   },
   "source": [
    "進行填值，預設類別欄位的缺失值轉為新的欄位，如需填值後再進行 one-hoe encoding 請修改\n",
    "\n",
    "```python\n",
    "na_col = True\n",
    "```\n",
    "改為\n",
    "```python\n",
    "na_col = False\n",
    "```\n",
    "\n",
    "<font size=2% color=YELLOWGREEN>【可以修改】</font> 在填值之前先轉換類別資料，在此使用前置 function ，但將缺失值視為一欄。"
   ]
  },
  {
   "cell_type": "code",
   "execution_count": null,
   "metadata": {
    "ExecuteTime": {
     "end_time": "2019-04-23T06:46:24.518017Z",
     "start_time": "2019-04-23T06:46:22.017413Z"
    }
   },
   "outputs": [],
   "source": [
    "na_col = True\n",
    "groupbycol = []\n",
    "\n",
    "\n",
    "\n",
    "if na_col == True:\n",
    "    TrainData_tofill_Na,TestData_tofill_Na = one_hot_encoder(TrainData,TestData,label_factors = numeric_label, nan_as_category = True)\n",
    "    TrainData_tofill_Na,TestData_tofill_Na = FillNa(TrainData_tofill_Na,TestData_tofill_Na,groupbycol=groupbycol)\n",
    "else:\n",
    "    TrainData_tofill_Na,TestData_tofill_Na = FillNa(TrainData,TestData,groupbycol=groupbycol)\n",
    "    TrainData_tofill_Na,TestData_tofill_Na = one_hot_encoder(TrainData_tofill_Na,TestData_tofill_Na,label_factors = numeric_label, nan_as_category = True)\n",
    "\n",
    "TrainData_Fill_OHE = TrainData_tofill_Na\n",
    "TestData_Fill_OHE = TestData_tofill_Na\n",
    "del TrainData_tofill_Na, TestData_tofill_Na\n",
    "\n",
    "print('資料筆數：', TrainData_Fill_OHE.shape[0] + TestData_Fill_OHE.shape[0], '   資料欄位數 (不含目標欄)：',TrainData_Fill_OHE.shape[1]-1)\n"
   ]
  },
  {
   "cell_type": "markdown",
   "metadata": {},
   "source": [
    "<font size=2% color=GREEN>【不需修改】</font>  在進行歸一化之前，將目前處理結束之資料存入檔案 data_Fill_OHE。"
   ]
  },
  {
   "cell_type": "code",
   "execution_count": null,
   "metadata": {
    "ExecuteTime": {
     "end_time": "2019-04-23T06:46:24.959769Z",
     "start_time": "2019-04-23T06:46:24.519013Z"
    }
   },
   "outputs": [],
   "source": [
    "dfs_to_hdf(TrainData_Fill_OHE,TestData_Fill_OHE,'data_Fill_OHE',TrainID,TestID)"
   ]
  },
  {
   "cell_type": "markdown",
   "metadata": {},
   "source": [
    "## 歸一化與標準化\n",
    "許多演算法要求資料值必需在 0~1 之間，然而轉換值域區間有許多不同方法。\n",
    "\n",
    "<font size=2% color=YELLOWGREEN>【可以修改】</font>  列出各種轉換方法，請自行選擇"
   ]
  },
  {
   "cell_type": "code",
   "execution_count": null,
   "metadata": {
    "ExecuteTime": {
     "end_time": "2019-04-23T06:46:25.812933Z",
     "start_time": "2019-04-23T06:46:24.960765Z"
    }
   },
   "outputs": [],
   "source": [
    "\n",
    "\n",
    "#Scaler = QuantileTransformer()\n",
    "Scaler = MinMaxScaler()\n",
    "#Scaler = StandardScaler()\n",
    "#Scaler = RobustScaler()\n",
    "#Scaler = Normalizer()\n",
    "\n",
    "AllData = pd.concat([TrainData_Fill_OHE,TestData_Fill_OHE],axis=0).reset_index(drop=True)\n",
    "\n",
    "temp = AllData[TargetColumn]\n",
    "AllData.drop([TargetColumn],axis=1,inplace=True)\n",
    "\n",
    "AllData = pd.DataFrame(Scaler.fit_transform(AllData), columns=AllData.columns)\n",
    "AllData = pd.concat([AllData,temp],axis=1)\n",
    "TrainData_Sca_Fill_OHE = AllData[:TrainData.shape[0]].reset_index(drop=True)\n",
    "TestData_Sca_Fill_OHE = AllData[TrainData.shape[0]:].reset_index(drop=True) \n",
    "del AllData,temp\n",
    "\n",
    "print('資料筆數：', TrainData_Sca_Fill_OHE.shape[0] + TestData_Sca_Fill_OHE.shape[0], '   資料欄位數 (不含目標欄)：',TrainData_Fill_OHE.shape[1]-1)\n"
   ]
  },
  {
   "cell_type": "markdown",
   "metadata": {},
   "source": [
    "<font size=2% color=GREEN>【不需修改】</font>  將目前處理結束之資料存入檔案 data_Sca_Fill_OHE。同時全部清理。"
   ]
  },
  {
   "cell_type": "code",
   "execution_count": null,
   "metadata": {
    "ExecuteTime": {
     "end_time": "2019-04-23T06:46:27.314245Z",
     "start_time": "2019-04-23T06:46:25.813915Z"
    }
   },
   "outputs": [],
   "source": [
    "dfs_to_hdf(TrainData_Sca_Fill_OHE,TestData_Sca_Fill_OHE,'data_Sca_Fill_OHE',TrainID,TestID)\n",
    "del TrainData, TestData\n",
    "del TrainData_Fill_OHE, TestData_Fill_OHE\n",
    "del TrainData_Sca_Fill_OHE, TestData_Sca_Fill_OHE\n",
    "gc.collect()"
   ]
  }
 ],
 "metadata": {
  "kernelspec": {
   "display_name": "Python 3",
   "language": "python",
   "name": "python3"
  },
  "language_info": {
   "codemirror_mode": {
    "name": "ipython",
    "version": 3
   },
   "file_extension": ".py",
   "mimetype": "text/x-python",
   "name": "python",
   "nbconvert_exporter": "python",
   "pygments_lexer": "ipython3",
   "version": "3.6.7"
  },
  "toc": {
   "base_numbering": 1,
   "nav_menu": {},
   "number_sections": true,
   "sideBar": true,
   "skip_h1_title": false,
   "title_cell": "Table of Contents",
   "title_sidebar": "Contents",
   "toc_cell": false,
   "toc_position": {},
   "toc_section_display": true,
   "toc_window_display": true
  }
 },
 "nbformat": 4,
 "nbformat_minor": 2
}
